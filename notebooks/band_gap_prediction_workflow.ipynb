{
 "cells": [
  {
   "cell_type": "code",
   "id": "eed2a328-700e-4d50-829e-cbac7c608502",
   "metadata": {
    "ExecuteTime": {
     "end_time": "2025-02-05T18:46:11.592232Z",
     "start_time": "2025-02-05T18:46:10.751084Z"
    }
   },
   "source": [
    "import argparse\n",
    "\n",
    "import pandas as pd\n",
    "\n",
    "from band_gap_ml.band_gap_predictor import predict_eg_from_file, predict_eg_from_formula\n",
    "from band_gap_ml.model_training import train_and_save_models"
   ],
   "outputs": [],
   "execution_count": 1
  },
  {
   "metadata": {},
   "cell_type": "markdown",
   "source": "# 1. Train models",
   "id": "ff80a06614c933b5"
  },
  {
   "metadata": {},
   "cell_type": "markdown",
   "source": "## 1.1 RandomForest",
   "id": "41645d09f2e65dff"
  },
  {
   "metadata": {
    "ExecuteTime": {
     "end_time": "2025-02-05T18:46:58.980494Z",
     "start_time": "2025-02-05T18:46:35.715701Z"
    }
   },
   "cell_type": "code",
   "source": "train_and_save_models(model_type='RandomForest', use_grid_search=False)",
   "id": "f52435c184fb8e37",
   "outputs": [
    {
     "name": "stdout",
     "output_type": "stream",
     "text": [
      "Starting model training for RandomForest\n",
      "Model directory created: /Users/alexey-krasnov/Desktop/works/projects/ml_projects/BandGap-ml/band_gap_ml/models/randomforest\n",
      "1. Starting classification training...\n",
      "Importing RandomForestClassifier from sklearn.ensemble\n",
      "2. Training classification model with default parameters...\n",
      "RandomForest Classification Best Parameters: Default parameters\n",
      "Accuracy: 0.9054878048780488\n",
      "Precision: 0.893491124260355\n",
      "Recall: 0.9207317073170732\n",
      "F1 Score: 0.9069069069069069\n",
      "3. Training final classification model on entire dataset...\n",
      "Saving classification model to /Users/alexey-krasnov/Desktop/works/projects/ml_projects/BandGap-ml/band_gap_ml/models/randomforest/classification_randomforest.pkl\n",
      "Saving classification scaler to /Users/alexey-krasnov/Desktop/works/projects/ml_projects/BandGap-ml/band_gap_ml/models/randomforest/classification_randomforest_scaler.pkl\n",
      "\n",
      "4. Starting regression training\n",
      "Importing RandomForestRegressor from sklearn.ensemble\n",
      "5. Training regression model with default parameters...\n",
      "\n",
      "RandomForest Regression Best Parameters: Default parameters\n",
      "R2 Score: 0.9047288954227437\n",
      "MAE: 0.29633275835467726\n",
      "MSE: 0.22705500784357818\n",
      "RMSE: 0.47650289384596417\n",
      "Explained Variance Score: 0.904736816166808\n",
      "6. Training final regression model on entire dataset\n",
      "Saving regression model to /Users/alexey-krasnov/Desktop/works/projects/ml_projects/BandGap-ml/band_gap_ml/models/randomforest/regression_randomforest.pkl\n",
      "Saving regression scaler to /Users/alexey-krasnov/Desktop/works/projects/ml_projects/BandGap-ml/band_gap_ml/models/randomforest/regression_randomforest_scaler.pkl\n",
      "Model training completed successfully\n"
     ]
    }
   ],
   "execution_count": 3
  },
  {
   "metadata": {},
   "cell_type": "markdown",
   "source": "## 1.2 GradientBoosting",
   "id": "50f54c25a85cbc6b"
  },
  {
   "metadata": {
    "ExecuteTime": {
     "end_time": "2025-02-05T18:47:26.746810Z",
     "start_time": "2025-02-05T18:47:06.004979Z"
    }
   },
   "cell_type": "code",
   "source": "train_and_save_models(model_type='GradientBoosting', use_grid_search=False)",
   "id": "b81bc9807a11fa5a",
   "outputs": [
    {
     "name": "stdout",
     "output_type": "stream",
     "text": [
      "Starting model training for GradientBoosting\n",
      "Model directory created: /Users/alexey-krasnov/Desktop/works/projects/ml_projects/BandGap-ml/band_gap_ml/models/gradientboosting\n",
      "1. Starting classification training...\n",
      "Importing GradientBoostingClassifier from sklearn.ensemble\n",
      "2. Training classification model with default parameters...\n",
      "GradientBoosting Classification Best Parameters: Default parameters\n",
      "Accuracy: 0.8902439024390244\n",
      "Precision: 0.872093023255814\n",
      "Recall: 0.9146341463414634\n",
      "F1 Score: 0.8928571428571429\n",
      "3. Training final classification model on entire dataset...\n",
      "Saving classification model to /Users/alexey-krasnov/Desktop/works/projects/ml_projects/BandGap-ml/band_gap_ml/models/gradientboosting/classification_gradientboosting.pkl\n",
      "Saving classification scaler to /Users/alexey-krasnov/Desktop/works/projects/ml_projects/BandGap-ml/band_gap_ml/models/gradientboosting/classification_gradientboosting_scaler.pkl\n",
      "\n",
      "4. Starting regression training\n",
      "Importing GradientBoostingRegressor from sklearn.ensemble\n",
      "5. Training regression model with default parameters...\n",
      "\n",
      "GradientBoosting Regression Best Parameters: Default parameters\n",
      "R2 Score: 0.8656056680547504\n",
      "MAE: 0.40897314816007807\n",
      "MSE: 0.3202955001872182\n",
      "RMSE: 0.5659465524121674\n",
      "Explained Variance Score: 0.8657218103277681\n",
      "6. Training final regression model on entire dataset\n",
      "Saving regression model to /Users/alexey-krasnov/Desktop/works/projects/ml_projects/BandGap-ml/band_gap_ml/models/gradientboosting/regression_gradientboosting.pkl\n",
      "Saving regression scaler to /Users/alexey-krasnov/Desktop/works/projects/ml_projects/BandGap-ml/band_gap_ml/models/gradientboosting/regression_gradientboosting_scaler.pkl\n",
      "Model training completed successfully\n"
     ]
    }
   ],
   "execution_count": 4
  },
  {
   "metadata": {},
   "cell_type": "markdown",
   "source": "## 1.3 XGBoost",
   "id": "473df31113e924e6"
  },
  {
   "metadata": {
    "ExecuteTime": {
     "end_time": "2025-02-05T18:47:28.365017Z",
     "start_time": "2025-02-05T18:47:26.754256Z"
    }
   },
   "cell_type": "code",
   "source": "train_and_save_models(model_type='XGBoost', use_grid_search=False)",
   "id": "3bcb756cbebfce15",
   "outputs": [
    {
     "name": "stdout",
     "output_type": "stream",
     "text": [
      "Starting model training for XGBoost\n",
      "Model directory created: /Users/alexey-krasnov/Desktop/works/projects/ml_projects/BandGap-ml/band_gap_ml/models/xgboost\n",
      "1. Starting classification training...\n",
      "Importing XGBClassifier from xgboost\n",
      "2. Training classification model with default parameters...\n",
      "XGBoost Classification Best Parameters: Default parameters\n",
      "Accuracy: 0.9115853658536586\n",
      "Precision: 0.8994082840236687\n",
      "Recall: 0.926829268292683\n",
      "F1 Score: 0.9129129129129129\n",
      "3. Training final classification model on entire dataset...\n",
      "Saving classification model to /Users/alexey-krasnov/Desktop/works/projects/ml_projects/BandGap-ml/band_gap_ml/models/xgboost/classification_xgboost.pkl\n",
      "Saving classification scaler to /Users/alexey-krasnov/Desktop/works/projects/ml_projects/BandGap-ml/band_gap_ml/models/xgboost/classification_xgboost_scaler.pkl\n",
      "\n",
      "4. Starting regression training\n",
      "Importing XGBRegressor from xgboost\n",
      "5. Training regression model with default parameters...\n",
      "\n",
      "XGBoost Regression Best Parameters: Default parameters\n",
      "R2 Score: 0.9019038081169128\n",
      "MAE: 0.29294994473457336\n",
      "MSE: 0.23378784954547882\n",
      "RMSE: 0.4835161316290066\n",
      "Explained Variance Score: 0.9019133875141188\n",
      "6. Training final regression model on entire dataset\n",
      "Saving regression model to /Users/alexey-krasnov/Desktop/works/projects/ml_projects/BandGap-ml/band_gap_ml/models/xgboost/regression_xgboost.pkl\n",
      "Saving regression scaler to /Users/alexey-krasnov/Desktop/works/projects/ml_projects/BandGap-ml/band_gap_ml/models/xgboost/regression_xgboost_scaler.pkl\n",
      "Model training completed successfully\n"
     ]
    }
   ],
   "execution_count": 5
  },
  {
   "metadata": {
    "ExecuteTime": {
     "end_time": "2025-02-05T18:50:04.016259Z",
     "start_time": "2025-02-05T18:50:03.770224Z"
    }
   },
   "cell_type": "code",
   "source": "train_and_save_models(model_type='XGBoost', use_grid_search=True)",
   "id": "b768bb085f176b77",
   "outputs": [
    {
     "name": "stdout",
     "output_type": "stream",
     "text": [
      "Starting model training for XGBoost\n",
      "Model directory created: /Users/alexey-krasnov/Desktop/works/projects/ml_projects/BandGap-ml/band_gap_ml/models/xgboost\n",
      "1. Starting classification training...\n",
      "Importing XGBClassifier from xgboost\n",
      "2. Starting randomized search for classification...\n"
     ]
    },
    {
     "name": "stderr",
     "output_type": "stream",
     "text": [
      "/Users/alexey-krasnov/miniforge3/envs/works_3.12/lib/python3.12/site-packages/sklearn/utils/_tags.py:354: FutureWarning: The XGBClassifier or classes from which it inherits use `_get_tags` and `_more_tags`. Please define the `__sklearn_tags__` method, or inherit from `sklearn.base.BaseEstimator` and/or other appropriate mixins such as `sklearn.base.TransformerMixin`, `sklearn.base.ClassifierMixin`, `sklearn.base.RegressorMixin`, and `sklearn.base.OutlierMixin`. From scikit-learn 1.7, not defining `__sklearn_tags__` will raise an error.\n",
      "  warnings.warn(\n"
     ]
    },
    {
     "ename": "AttributeError",
     "evalue": "'super' object has no attribute '__sklearn_tags__'",
     "output_type": "error",
     "traceback": [
      "\u001B[0;31m---------------------------------------------------------------------------\u001B[0m",
      "\u001B[0;31mAttributeError\u001B[0m                            Traceback (most recent call last)",
      "Cell \u001B[0;32mIn[6], line 1\u001B[0m\n\u001B[0;32m----> 1\u001B[0m \u001B[43mtrain_and_save_models\u001B[49m\u001B[43m(\u001B[49m\u001B[43mmodel_type\u001B[49m\u001B[38;5;241;43m=\u001B[39;49m\u001B[38;5;124;43m'\u001B[39;49m\u001B[38;5;124;43mXGBoost\u001B[39;49m\u001B[38;5;124;43m'\u001B[39;49m\u001B[43m,\u001B[49m\u001B[43m \u001B[49m\u001B[43muse_grid_search\u001B[49m\u001B[38;5;241;43m=\u001B[39;49m\u001B[38;5;28;43;01mTrue\u001B[39;49;00m\u001B[43m)\u001B[49m\n",
      "File \u001B[0;32m~/Desktop/works/projects/ml_projects/BandGap-ml/band_gap_ml/model_training.py:82\u001B[0m, in \u001B[0;36mtrain_and_save_models\u001B[0;34m(classification_data_path, regression_data_path, model_type, classification_params, regression_params, use_grid_search)\u001B[0m\n\u001B[1;32m     72\u001B[0m classification_params \u001B[38;5;241m=\u001B[39m classification_params \u001B[38;5;129;01mor\u001B[39;00m Config\u001B[38;5;241m.\u001B[39mget_default_grid_params(model_type, \u001B[38;5;124m'\u001B[39m\u001B[38;5;124mclassification\u001B[39m\u001B[38;5;124m'\u001B[39m)\n\u001B[1;32m     73\u001B[0m random_search_class \u001B[38;5;241m=\u001B[39m RandomizedSearchCV(\n\u001B[1;32m     74\u001B[0m     ClassifierModel(),\n\u001B[1;32m     75\u001B[0m     classification_params,\n\u001B[0;32m   (...)\u001B[0m\n\u001B[1;32m     80\u001B[0m     random_state\u001B[38;5;241m=\u001B[39m\u001B[38;5;241m42\u001B[39m\n\u001B[1;32m     81\u001B[0m )\n\u001B[0;32m---> 82\u001B[0m \u001B[43mrandom_search_class\u001B[49m\u001B[38;5;241;43m.\u001B[39;49m\u001B[43mfit\u001B[49m\u001B[43m(\u001B[49m\u001B[43mX_train_class\u001B[49m\u001B[43m,\u001B[49m\u001B[43m \u001B[49m\u001B[43mY_train_class\u001B[49m\u001B[43m)\u001B[49m\n\u001B[1;32m     83\u001B[0m best_classifier \u001B[38;5;241m=\u001B[39m random_search_class\u001B[38;5;241m.\u001B[39mbest_estimator_\n\u001B[1;32m     84\u001B[0m best_params \u001B[38;5;241m=\u001B[39m random_search_class\u001B[38;5;241m.\u001B[39mbest_params_\n",
      "File \u001B[0;32m~/miniforge3/envs/works_3.12/lib/python3.12/site-packages/sklearn/base.py:1389\u001B[0m, in \u001B[0;36m_fit_context.<locals>.decorator.<locals>.wrapper\u001B[0;34m(estimator, *args, **kwargs)\u001B[0m\n\u001B[1;32m   1382\u001B[0m     estimator\u001B[38;5;241m.\u001B[39m_validate_params()\n\u001B[1;32m   1384\u001B[0m \u001B[38;5;28;01mwith\u001B[39;00m config_context(\n\u001B[1;32m   1385\u001B[0m     skip_parameter_validation\u001B[38;5;241m=\u001B[39m(\n\u001B[1;32m   1386\u001B[0m         prefer_skip_nested_validation \u001B[38;5;129;01mor\u001B[39;00m global_skip_validation\n\u001B[1;32m   1387\u001B[0m     )\n\u001B[1;32m   1388\u001B[0m ):\n\u001B[0;32m-> 1389\u001B[0m     \u001B[38;5;28;01mreturn\u001B[39;00m \u001B[43mfit_method\u001B[49m\u001B[43m(\u001B[49m\u001B[43mestimator\u001B[49m\u001B[43m,\u001B[49m\u001B[43m \u001B[49m\u001B[38;5;241;43m*\u001B[39;49m\u001B[43margs\u001B[49m\u001B[43m,\u001B[49m\u001B[43m \u001B[49m\u001B[38;5;241;43m*\u001B[39;49m\u001B[38;5;241;43m*\u001B[39;49m\u001B[43mkwargs\u001B[49m\u001B[43m)\u001B[49m\n",
      "File \u001B[0;32m~/miniforge3/envs/works_3.12/lib/python3.12/site-packages/sklearn/model_selection/_search.py:932\u001B[0m, in \u001B[0;36mBaseSearchCV.fit\u001B[0;34m(self, X, y, **params)\u001B[0m\n\u001B[1;32m    928\u001B[0m params \u001B[38;5;241m=\u001B[39m _check_method_params(X, params\u001B[38;5;241m=\u001B[39mparams)\n\u001B[1;32m    930\u001B[0m routed_params \u001B[38;5;241m=\u001B[39m \u001B[38;5;28mself\u001B[39m\u001B[38;5;241m.\u001B[39m_get_routed_params_for_fit(params)\n\u001B[0;32m--> 932\u001B[0m cv_orig \u001B[38;5;241m=\u001B[39m check_cv(\u001B[38;5;28mself\u001B[39m\u001B[38;5;241m.\u001B[39mcv, y, classifier\u001B[38;5;241m=\u001B[39m\u001B[43mis_classifier\u001B[49m\u001B[43m(\u001B[49m\u001B[43mestimator\u001B[49m\u001B[43m)\u001B[49m)\n\u001B[1;32m    933\u001B[0m n_splits \u001B[38;5;241m=\u001B[39m cv_orig\u001B[38;5;241m.\u001B[39mget_n_splits(X, y, \u001B[38;5;241m*\u001B[39m\u001B[38;5;241m*\u001B[39mrouted_params\u001B[38;5;241m.\u001B[39msplitter\u001B[38;5;241m.\u001B[39msplit)\n\u001B[1;32m    935\u001B[0m base_estimator \u001B[38;5;241m=\u001B[39m clone(\u001B[38;5;28mself\u001B[39m\u001B[38;5;241m.\u001B[39mestimator)\n",
      "File \u001B[0;32m~/miniforge3/envs/works_3.12/lib/python3.12/site-packages/sklearn/base.py:1237\u001B[0m, in \u001B[0;36mis_classifier\u001B[0;34m(estimator)\u001B[0m\n\u001B[1;32m   1230\u001B[0m     warnings\u001B[38;5;241m.\u001B[39mwarn(\n\u001B[1;32m   1231\u001B[0m         \u001B[38;5;124mf\u001B[39m\u001B[38;5;124m\"\u001B[39m\u001B[38;5;124mpassing a class to \u001B[39m\u001B[38;5;132;01m{\u001B[39;00m\u001B[38;5;28mprint\u001B[39m(inspect\u001B[38;5;241m.\u001B[39mstack()[\u001B[38;5;241m0\u001B[39m][\u001B[38;5;241m3\u001B[39m])\u001B[38;5;132;01m}\u001B[39;00m\u001B[38;5;124m is deprecated and \u001B[39m\u001B[38;5;124m\"\u001B[39m\n\u001B[1;32m   1232\u001B[0m         \u001B[38;5;124m\"\u001B[39m\u001B[38;5;124mwill be removed in 1.8. Use an instance of the class instead.\u001B[39m\u001B[38;5;124m\"\u001B[39m,\n\u001B[1;32m   1233\u001B[0m         \u001B[38;5;167;01mFutureWarning\u001B[39;00m,\n\u001B[1;32m   1234\u001B[0m     )\n\u001B[1;32m   1235\u001B[0m     \u001B[38;5;28;01mreturn\u001B[39;00m \u001B[38;5;28mgetattr\u001B[39m(estimator, \u001B[38;5;124m\"\u001B[39m\u001B[38;5;124m_estimator_type\u001B[39m\u001B[38;5;124m\"\u001B[39m, \u001B[38;5;28;01mNone\u001B[39;00m) \u001B[38;5;241m==\u001B[39m \u001B[38;5;124m\"\u001B[39m\u001B[38;5;124mclassifier\u001B[39m\u001B[38;5;124m\"\u001B[39m\n\u001B[0;32m-> 1237\u001B[0m \u001B[38;5;28;01mreturn\u001B[39;00m \u001B[43mget_tags\u001B[49m\u001B[43m(\u001B[49m\u001B[43mestimator\u001B[49m\u001B[43m)\u001B[49m\u001B[38;5;241m.\u001B[39mestimator_type \u001B[38;5;241m==\u001B[39m \u001B[38;5;124m\"\u001B[39m\u001B[38;5;124mclassifier\u001B[39m\u001B[38;5;124m\"\u001B[39m\n",
      "File \u001B[0;32m~/miniforge3/envs/works_3.12/lib/python3.12/site-packages/sklearn/utils/_tags.py:405\u001B[0m, in \u001B[0;36mget_tags\u001B[0;34m(estimator)\u001B[0m\n\u001B[1;32m    403\u001B[0m \u001B[38;5;28;01mfor\u001B[39;00m klass \u001B[38;5;129;01min\u001B[39;00m \u001B[38;5;28mreversed\u001B[39m(\u001B[38;5;28mtype\u001B[39m(estimator)\u001B[38;5;241m.\u001B[39mmro()):\n\u001B[1;32m    404\u001B[0m     \u001B[38;5;28;01mif\u001B[39;00m \u001B[38;5;124m\"\u001B[39m\u001B[38;5;124m__sklearn_tags__\u001B[39m\u001B[38;5;124m\"\u001B[39m \u001B[38;5;129;01min\u001B[39;00m \u001B[38;5;28mvars\u001B[39m(klass):\n\u001B[0;32m--> 405\u001B[0m         sklearn_tags_provider[klass] \u001B[38;5;241m=\u001B[39m \u001B[43mklass\u001B[49m\u001B[38;5;241;43m.\u001B[39;49m\u001B[43m__sklearn_tags__\u001B[49m\u001B[43m(\u001B[49m\u001B[43mestimator\u001B[49m\u001B[43m)\u001B[49m  \u001B[38;5;66;03m# type: ignore[attr-defined]\u001B[39;00m\n\u001B[1;32m    406\u001B[0m         class_order\u001B[38;5;241m.\u001B[39mappend(klass)\n\u001B[1;32m    407\u001B[0m     \u001B[38;5;28;01melif\u001B[39;00m \u001B[38;5;124m\"\u001B[39m\u001B[38;5;124m_more_tags\u001B[39m\u001B[38;5;124m\"\u001B[39m \u001B[38;5;129;01min\u001B[39;00m \u001B[38;5;28mvars\u001B[39m(klass):\n",
      "File \u001B[0;32m~/miniforge3/envs/works_3.12/lib/python3.12/site-packages/sklearn/base.py:540\u001B[0m, in \u001B[0;36mClassifierMixin.__sklearn_tags__\u001B[0;34m(self)\u001B[0m\n\u001B[1;32m    539\u001B[0m \u001B[38;5;28;01mdef\u001B[39;00m \u001B[38;5;21m__sklearn_tags__\u001B[39m(\u001B[38;5;28mself\u001B[39m):\n\u001B[0;32m--> 540\u001B[0m     tags \u001B[38;5;241m=\u001B[39m \u001B[38;5;28;43msuper\u001B[39;49m\u001B[43m(\u001B[49m\u001B[43m)\u001B[49m\u001B[38;5;241;43m.\u001B[39;49m\u001B[43m__sklearn_tags__\u001B[49m()\n\u001B[1;32m    541\u001B[0m     tags\u001B[38;5;241m.\u001B[39mestimator_type \u001B[38;5;241m=\u001B[39m \u001B[38;5;124m\"\u001B[39m\u001B[38;5;124mclassifier\u001B[39m\u001B[38;5;124m\"\u001B[39m\n\u001B[1;32m    542\u001B[0m     tags\u001B[38;5;241m.\u001B[39mclassifier_tags \u001B[38;5;241m=\u001B[39m ClassifierTags()\n",
      "\u001B[0;31mAttributeError\u001B[0m: 'super' object has no attribute '__sklearn_tags__'"
     ]
    }
   ],
   "execution_count": 6
  },
  {
   "cell_type": "markdown",
   "id": "372d5a86-80f1-47dd-9908-4ceb8957f105",
   "metadata": {},
   "source": "# 2. Prediction from csv file"
  },
  {
   "cell_type": "code",
   "id": "97780f08-f0a3-4364-bcaa-f7ce70726742",
   "metadata": {
    "ExecuteTime": {
     "end_time": "2025-02-04T20:49:38.085973Z",
     "start_time": "2025-02-04T20:49:38.008606Z"
    }
   },
   "source": [
    "input_file = '../samples/to_predict.csv'\n",
    "\n",
    "predictions = predict_eg_from_file(input_file)\n",
    "print(predictions)\n",
    "predictions"
   ],
   "outputs": [
    {
     "name": "stdout",
     "output_type": "stream",
     "text": [
      "[np.float64(3.4190938888888933), np.int64(0), np.int64(0), np.int64(0), np.int64(0), np.int64(0), np.int64(0), np.int64(0), np.int64(0), np.float64(3.5661508333333343), np.float64(3.157483333333332), np.float64(3.1493383333333327), np.float64(3.0604999999999984), np.float64(3.0374733333333337), np.int64(0), np.float64(3.4022892716398485)]\n"
     ]
    },
    {
     "name": "stderr",
     "output_type": "stream",
     "text": [
      "/Users/alexey-krasnov/miniforge3/envs/works_3.12/lib/python3.12/site-packages/sklearn/utils/validation.py:2732: UserWarning: X has feature names, but StandardScaler was fitted without feature names\n",
      "  warnings.warn(\n",
      "/Users/alexey-krasnov/miniforge3/envs/works_3.12/lib/python3.12/site-packages/sklearn/utils/validation.py:2732: UserWarning: X has feature names, but StandardScaler was fitted without feature names\n",
      "  warnings.warn(\n"
     ]
    },
    {
     "data": {
      "text/plain": [
       "[np.float64(3.4190938888888933),\n",
       " np.int64(0),\n",
       " np.int64(0),\n",
       " np.int64(0),\n",
       " np.int64(0),\n",
       " np.int64(0),\n",
       " np.int64(0),\n",
       " np.int64(0),\n",
       " np.int64(0),\n",
       " np.float64(3.5661508333333343),\n",
       " np.float64(3.157483333333332),\n",
       " np.float64(3.1493383333333327),\n",
       " np.float64(3.0604999999999984),\n",
       " np.float64(3.0374733333333337),\n",
       " np.int64(0),\n",
       " np.float64(3.4022892716398485)]"
      ]
     },
     "execution_count": 3,
     "metadata": {},
     "output_type": "execute_result"
    }
   ],
   "execution_count": 3
  },
  {
   "metadata": {
    "ExecuteTime": {
     "end_time": "2025-02-05T18:52:31.426241Z",
     "start_time": "2025-02-05T18:52:31.377280Z"
    }
   },
   "cell_type": "code",
   "source": [
    "input_file = '../samples/to_predict.csv'\n",
    "\n",
    "predictions = predict_eg_from_file(input_file, model_type='XGBoost')\n",
    "print(predictions)\n",
    "predictions"
   ],
   "id": "2a98e4d70343be84",
   "outputs": [
    {
     "name": "stdout",
     "output_type": "stream",
     "text": [
      "[np.float32(3.3633704), np.float32(3.5537503), np.int64(0), np.int64(0), np.int64(0), np.int64(0), np.float32(3.5693252), np.int64(0), np.int64(0), np.float32(3.5278072), np.float32(3.1601152), np.float32(2.7337983), np.float32(3.089959), np.float32(2.4396708), np.int64(0), np.float32(3.4009721)]\n"
     ]
    },
    {
     "name": "stderr",
     "output_type": "stream",
     "text": [
      "/Users/alexey-krasnov/miniforge3/envs/works_3.12/lib/python3.12/site-packages/sklearn/utils/validation.py:2732: UserWarning: X has feature names, but StandardScaler was fitted without feature names\n",
      "  warnings.warn(\n",
      "/Users/alexey-krasnov/miniforge3/envs/works_3.12/lib/python3.12/site-packages/sklearn/utils/validation.py:2732: UserWarning: X has feature names, but StandardScaler was fitted without feature names\n",
      "  warnings.warn(\n"
     ]
    },
    {
     "data": {
      "text/plain": [
       "[np.float32(3.3633704),\n",
       " np.float32(3.5537503),\n",
       " np.int64(0),\n",
       " np.int64(0),\n",
       " np.int64(0),\n",
       " np.int64(0),\n",
       " np.float32(3.5693252),\n",
       " np.int64(0),\n",
       " np.int64(0),\n",
       " np.float32(3.5278072),\n",
       " np.float32(3.1601152),\n",
       " np.float32(2.7337983),\n",
       " np.float32(3.089959),\n",
       " np.float32(2.4396708),\n",
       " np.int64(0),\n",
       " np.float32(3.4009721)]"
      ]
     },
     "execution_count": 8,
     "metadata": {},
     "output_type": "execute_result"
    }
   ],
   "execution_count": 8
  },
  {
   "cell_type": "markdown",
   "id": "5e73c134-5b5e-410f-ae83-5822c19678db",
   "metadata": {},
   "source": "# 3. Prediction from one or multiple chemical formula"
  },
  {
   "cell_type": "code",
   "id": "8410f5ee-9fc1-42dd-bc25-a3576444ad69",
   "metadata": {
    "ExecuteTime": {
     "end_time": "2025-02-05T18:54:11.054522Z",
     "start_time": "2025-02-05T18:54:11.012043Z"
    }
   },
   "source": [
    "formula_1 = 'BaLa2In2O7'\n",
    "formula_2 = 'TiO2'\n",
    "formula_3 = 'Bi4Ti3O12'\n",
    "formula_4 = 'Bi2Ti2O7'\n",
    "predictions = predict_eg_from_formula(formula=[formula_1, formula_2, formula_3, formula_4 ])\n",
    "print(predictions)"
   ],
   "outputs": [
    {
     "name": "stdout",
     "output_type": "stream",
     "text": [
      "[np.float64(3.0808866666666654), np.float64(3.425520000000002), np.float64(3.0835486363636364), np.float64(3.133338636363636)]\n"
     ]
    },
    {
     "name": "stderr",
     "output_type": "stream",
     "text": [
      "/Users/alexey-krasnov/miniforge3/envs/works_3.12/lib/python3.12/site-packages/sklearn/utils/validation.py:2732: UserWarning: X has feature names, but StandardScaler was fitted without feature names\n",
      "  warnings.warn(\n",
      "/Users/alexey-krasnov/miniforge3/envs/works_3.12/lib/python3.12/site-packages/sklearn/utils/validation.py:2732: UserWarning: X has feature names, but StandardScaler was fitted without feature names\n",
      "  warnings.warn(\n"
     ]
    }
   ],
   "execution_count": 13
  },
  {
   "metadata": {
    "ExecuteTime": {
     "end_time": "2025-02-05T18:53:53.887316Z",
     "start_time": "2025-02-05T18:53:53.867131Z"
    }
   },
   "cell_type": "code",
   "source": [
    "formula_1 = 'BaLa2In2O7'\n",
    "formula_2 = 'TiO2'\n",
    "formula_3 = 'Bi4Ti3O12'\n",
    "formula_4 = 'Bi2Ti2O7'\n",
    "predictions = predict_eg_from_formula(formula=[formula_1, formula_2, formula_3, formula_4], model_type='XGBoost')\n",
    "print(predictions)"
   ],
   "id": "efe028d32260eedd",
   "outputs": [
    {
     "name": "stdout",
     "output_type": "stream",
     "text": [
      "[np.int64(0), np.float32(3.3633704), np.float32(2.4396708), np.float32(2.7337983)]\n"
     ]
    },
    {
     "name": "stderr",
     "output_type": "stream",
     "text": [
      "/Users/alexey-krasnov/miniforge3/envs/works_3.12/lib/python3.12/site-packages/sklearn/utils/validation.py:2732: UserWarning: X has feature names, but StandardScaler was fitted without feature names\n",
      "  warnings.warn(\n",
      "/Users/alexey-krasnov/miniforge3/envs/works_3.12/lib/python3.12/site-packages/sklearn/utils/validation.py:2732: UserWarning: X has feature names, but StandardScaler was fitted without feature names\n",
      "  warnings.warn(\n"
     ]
    }
   ],
   "execution_count": 12
  },
  {
   "cell_type": "code",
   "id": "dad4ebd5-2ca2-4a86-99fd-c86a8c701952",
   "metadata": {
    "ExecuteTime": {
     "end_time": "2025-02-04T20:49:44.283532Z",
     "start_time": "2025-02-04T20:49:44.236434Z"
    }
   },
   "source": [
    "predictions = predict_eg_from_formula(formula='BaTaO2N')\n",
    "predictions"
   ],
   "outputs": [
    {
     "name": "stderr",
     "output_type": "stream",
     "text": [
      "/Users/alexey-krasnov/miniforge3/envs/works_3.12/lib/python3.12/site-packages/sklearn/utils/validation.py:2732: UserWarning: X has feature names, but StandardScaler was fitted without feature names\n",
      "  warnings.warn(\n",
      "/Users/alexey-krasnov/miniforge3/envs/works_3.12/lib/python3.12/site-packages/sklearn/utils/validation.py:2732: UserWarning: X has feature names, but StandardScaler was fitted without feature names\n",
      "  warnings.warn(\n"
     ]
    },
    {
     "data": {
      "text/plain": [
       "[np.float64(1.8876000000000008)]"
      ]
     },
     "execution_count": 5,
     "metadata": {},
     "output_type": "execute_result"
    }
   ],
   "execution_count": 5
  },
  {
   "cell_type": "code",
   "id": "dbbf4682-0923-491f-a90e-08ec669f40a8",
   "metadata": {
    "ExecuteTime": {
     "end_time": "2025-02-04T20:49:45.805996Z",
     "start_time": "2025-02-04T20:49:45.802978Z"
    }
   },
   "source": [
    "print(predictions)"
   ],
   "outputs": [
    {
     "name": "stdout",
     "output_type": "stream",
     "text": [
      "[np.float64(1.8876000000000008)]\n"
     ]
    }
   ],
   "execution_count": 6
  },
  {
   "metadata": {},
   "cell_type": "code",
   "outputs": [],
   "execution_count": null,
   "source": "",
   "id": "f727d31b08165575"
  },
  {
   "metadata": {
    "ExecuteTime": {
     "end_time": "2025-02-05T18:52:50.657600Z",
     "start_time": "2025-02-05T18:52:50.637111Z"
    }
   },
   "cell_type": "code",
   "source": [
    "predictions = predict_eg_from_formula(formula='BaTaO2N', model_type='XGBoost')\n",
    "predictions"
   ],
   "id": "ab1f6192b9750095",
   "outputs": [
    {
     "name": "stderr",
     "output_type": "stream",
     "text": [
      "/Users/alexey-krasnov/miniforge3/envs/works_3.12/lib/python3.12/site-packages/sklearn/utils/validation.py:2732: UserWarning: X has feature names, but StandardScaler was fitted without feature names\n",
      "  warnings.warn(\n",
      "/Users/alexey-krasnov/miniforge3/envs/works_3.12/lib/python3.12/site-packages/sklearn/utils/validation.py:2732: UserWarning: X has feature names, but StandardScaler was fitted without feature names\n",
      "  warnings.warn(\n"
     ]
    },
    {
     "data": {
      "text/plain": [
       "[np.float32(1.9847039)]"
      ]
     },
     "execution_count": 9,
     "metadata": {},
     "output_type": "execute_result"
    }
   ],
   "execution_count": 9
  },
  {
   "metadata": {},
   "cell_type": "code",
   "outputs": [],
   "execution_count": null,
   "source": "",
   "id": "6831081eb2839de3"
  }
 ],
 "metadata": {
  "kernelspec": {
   "display_name": "Python 3 (ipykernel)",
   "language": "python",
   "name": "python3"
  },
  "language_info": {
   "codemirror_mode": {
    "name": "ipython",
    "version": 3
   },
   "file_extension": ".py",
   "mimetype": "text/x-python",
   "name": "python",
   "nbconvert_exporter": "python",
   "pygments_lexer": "ipython3",
   "version": "3.11.6"
  },
  "widgets": {
   "application/vnd.jupyter.widget-state+json": {
    "state": {},
    "version_major": 2,
    "version_minor": 0
   }
  }
 },
 "nbformat": 4,
 "nbformat_minor": 5
}
