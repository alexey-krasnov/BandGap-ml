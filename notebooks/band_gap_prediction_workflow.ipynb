{
 "cells": [
  {
   "cell_type": "code",
   "id": "eed2a328-700e-4d50-829e-cbac7c608502",
   "metadata": {
    "ExecuteTime": {
     "end_time": "2025-01-05T16:08:52.232314Z",
     "start_time": "2025-01-05T16:08:52.218571Z"
    }
   },
   "source": [
    "import argparse\n",
    "\n",
    "import pandas as pd\n",
    "\n",
    "from band_gap_ml.band_gap_predictor import predict_eg_from_file, predict_eg_from_formula\n",
    "from band_gap_ml.models import load_model\n",
    "from band_gap_ml.vectorizer import FormulaVectorizer\n",
    "from band_gap_ml.config import Config\n",
    "from band_gap_ml.model_training import train_and_save_models"
   ],
   "outputs": [],
   "execution_count": 2
  },
  {
   "metadata": {},
   "cell_type": "markdown",
   "source": "# 1. Train the models",
   "id": "ff80a06614c933b5"
  },
  {
   "metadata": {
    "ExecuteTime": {
     "end_time": "2025-01-05T16:09:34.968110Z",
     "start_time": "2025-01-05T16:09:25.601994Z"
    }
   },
   "cell_type": "code",
   "source": "train_and_save_models()",
   "id": "f52435c184fb8e37",
   "outputs": [
    {
     "name": "stdout",
     "output_type": "stream",
     "text": [
      "Random Forest Classification Accuracy: 0.9115853658536586\n",
      "Precision: 0.8978388998035364\n",
      "Recall: 0.9288617886178862\n",
      "F1 Score: 0.913086913086913\n",
      "\n",
      "Random Forest Regression Accuracy: 0.9031805331327653\n",
      "MAE: 0.29660309897063464\n",
      "MSE: 0.23074514467421248\n",
      "RMSE: 0.48035939115854964\n",
      "Explained Variance Score: 0.9031912728400529\n",
      "Mean Squared Log Error: 0.024835230986183048\n",
      "Median Absolute Error: 0.1574935416666673\n"
     ]
    },
    {
     "name": "stderr",
     "output_type": "stream",
     "text": [
      "/Users/alexey-krasnov/miniforge3/envs/works_3.12/lib/python3.12/site-packages/sklearn/metrics/_regression.py:492: FutureWarning: 'squared' is deprecated in version 1.4 and will be removed in 1.6. To calculate the root mean squared error, use the function'root_mean_squared_error'.\n",
      "  warnings.warn(\n"
     ]
    }
   ],
   "execution_count": 3
  },
  {
   "cell_type": "markdown",
   "id": "372d5a86-80f1-47dd-9908-4ceb8957f105",
   "metadata": {},
   "source": "# 2. Prediction from csv file"
  },
  {
   "cell_type": "code",
   "id": "97780f08-f0a3-4364-bcaa-f7ce70726742",
   "metadata": {
    "ExecuteTime": {
     "end_time": "2025-01-05T16:11:11.243358Z",
     "start_time": "2025-01-05T16:11:11.149806Z"
    }
   },
   "source": [
    "input_file = '../comparison/to_predict.csv'\n",
    "\n",
    "predictions = predict_eg_from_file(input_file)\n",
    "print(predictions)\n",
    "predictions"
   ],
   "outputs": [
    {
     "name": "stdout",
     "output_type": "stream",
     "text": [
      "[np.float64(3.613342559523805), np.float64(3.559387837301587), np.int64(0), np.int64(0), np.int64(0), np.int64(0), np.float64(3.5669393849206354), np.int64(0), np.int64(0), np.float64(3.4476761111111096), np.float64(3.0879433333333295), np.float64(3.220711666666665), np.float64(3.0726249999999995), np.float64(3.098611666666665), np.int64(0), np.float64(3.4023386861863805)]\n"
     ]
    },
    {
     "name": "stderr",
     "output_type": "stream",
     "text": [
      "/Users/alexey-krasnov/miniforge3/envs/works_3.12/lib/python3.12/site-packages/sklearn/base.py:486: UserWarning: X has feature names, but StandardScaler was fitted without feature names\n",
      "  warnings.warn(\n",
      "/Users/alexey-krasnov/miniforge3/envs/works_3.12/lib/python3.12/site-packages/sklearn/base.py:486: UserWarning: X has feature names, but StandardScaler was fitted without feature names\n",
      "  warnings.warn(\n"
     ]
    },
    {
     "data": {
      "text/plain": [
       "[np.float64(3.613342559523805),\n",
       " np.float64(3.559387837301587),\n",
       " np.int64(0),\n",
       " np.int64(0),\n",
       " np.int64(0),\n",
       " np.int64(0),\n",
       " np.float64(3.5669393849206354),\n",
       " np.int64(0),\n",
       " np.int64(0),\n",
       " np.float64(3.4476761111111096),\n",
       " np.float64(3.0879433333333295),\n",
       " np.float64(3.220711666666665),\n",
       " np.float64(3.0726249999999995),\n",
       " np.float64(3.098611666666665),\n",
       " np.int64(0),\n",
       " np.float64(3.4023386861863805)]"
      ]
     },
     "execution_count": 5,
     "metadata": {},
     "output_type": "execute_result"
    }
   ],
   "execution_count": 5
  },
  {
   "cell_type": "markdown",
   "id": "5e73c134-5b5e-410f-ae83-5822c19678db",
   "metadata": {},
   "source": "# 3. Prediction from one or multiple chemical formula"
  },
  {
   "cell_type": "code",
   "id": "8410f5ee-9fc1-42dd-bc25-a3576444ad69",
   "metadata": {
    "ExecuteTime": {
     "end_time": "2025-01-05T16:11:28.751558Z",
     "start_time": "2025-01-05T16:11:28.671770Z"
    }
   },
   "source": [
    "formula_1 = 'BaLa2In2O7'\n",
    "formula_2 = 'TiO2'\n",
    "formula_3 = 'Bi4Ti3O12'\n",
    "\n",
    "predictions = predict_eg_from_formula(formula=[formula_1, formula_2, formula_3])\n",
    "print(predictions)"
   ],
   "outputs": [
    {
     "name": "stdout",
     "output_type": "stream",
     "text": [
      "  Composition\n",
      "0  BaLa2In2O7\n",
      "1        TiO2\n",
      "2   Bi4Ti3O12\n",
      "[np.float64(3.1064889583333333), np.float64(3.613342559523805), np.float64(3.098611666666665)]\n"
     ]
    },
    {
     "name": "stderr",
     "output_type": "stream",
     "text": [
      "/Users/alexey-krasnov/miniforge3/envs/works_3.12/lib/python3.12/site-packages/sklearn/base.py:486: UserWarning: X has feature names, but StandardScaler was fitted without feature names\n",
      "  warnings.warn(\n",
      "/Users/alexey-krasnov/miniforge3/envs/works_3.12/lib/python3.12/site-packages/sklearn/base.py:486: UserWarning: X has feature names, but StandardScaler was fitted without feature names\n",
      "  warnings.warn(\n"
     ]
    }
   ],
   "execution_count": 6
  },
  {
   "cell_type": "code",
   "id": "dad4ebd5-2ca2-4a86-99fd-c86a8c701952",
   "metadata": {
    "ExecuteTime": {
     "end_time": "2025-01-05T16:11:36.456369Z",
     "start_time": "2025-01-05T16:11:36.378199Z"
    }
   },
   "source": [
    "predictions = predict_eg_from_formula(formula='BaTaO2N')\n",
    "predictions"
   ],
   "outputs": [
    {
     "name": "stderr",
     "output_type": "stream",
     "text": [
      "/Users/alexey-krasnov/miniforge3/envs/works_3.12/lib/python3.12/site-packages/sklearn/base.py:486: UserWarning: X has feature names, but StandardScaler was fitted without feature names\n",
      "  warnings.warn(\n",
      "/Users/alexey-krasnov/miniforge3/envs/works_3.12/lib/python3.12/site-packages/sklearn/base.py:486: UserWarning: X has feature names, but StandardScaler was fitted without feature names\n",
      "  warnings.warn(\n"
     ]
    },
    {
     "data": {
      "text/plain": [
       "[np.float64(1.8692333333333284)]"
      ]
     },
     "execution_count": 7,
     "metadata": {},
     "output_type": "execute_result"
    }
   ],
   "execution_count": 7
  },
  {
   "cell_type": "code",
   "id": "dbbf4682-0923-491f-a90e-08ec669f40a8",
   "metadata": {
    "ExecuteTime": {
     "end_time": "2025-01-05T16:11:39.685510Z",
     "start_time": "2025-01-05T16:11:39.682184Z"
    }
   },
   "source": [
    "print(predictions)"
   ],
   "outputs": [
    {
     "name": "stdout",
     "output_type": "stream",
     "text": [
      "[np.float64(1.8692333333333284)]\n"
     ]
    }
   ],
   "execution_count": 8
  }
 ],
 "metadata": {
  "kernelspec": {
   "display_name": "Python 3 (ipykernel)",
   "language": "python",
   "name": "python3"
  },
  "language_info": {
   "codemirror_mode": {
    "name": "ipython",
    "version": 3
   },
   "file_extension": ".py",
   "mimetype": "text/x-python",
   "name": "python",
   "nbconvert_exporter": "python",
   "pygments_lexer": "ipython3",
   "version": "3.11.6"
  },
  "widgets": {
   "application/vnd.jupyter.widget-state+json": {
    "state": {},
    "version_major": 2,
    "version_minor": 0
   }
  }
 },
 "nbformat": 4,
 "nbformat_minor": 5
}
