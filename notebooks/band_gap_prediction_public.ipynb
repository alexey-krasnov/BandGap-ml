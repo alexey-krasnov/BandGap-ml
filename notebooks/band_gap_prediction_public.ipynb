{
 "cells": [
  {
   "cell_type": "code",
   "id": "eed2a328-700e-4d50-829e-cbac7c608502",
   "metadata": {},
   "source": [
    "from band_gap_ml.band_gap_predictor import BandGapPredictor\n",
    "from band_gap_ml.model_training import train_and_save_models"
   ],
   "outputs": [],
   "execution_count": null
  },
  {
   "metadata": {},
   "cell_type": "markdown",
   "source": "# 1. Train models",
   "id": "ff80a06614c933b5"
  },
  {
   "metadata": {},
   "cell_type": "markdown",
   "source": "## 1.1 RandomForest",
   "id": "41645d09f2e65dff"
  },
  {
   "metadata": {},
   "cell_type": "code",
   "source": "train_and_save_models(model_type='RandomForest', use_grid_search=False)",
   "id": "f52435c184fb8e37",
   "outputs": [],
   "execution_count": null
  },
  {
   "metadata": {},
   "cell_type": "markdown",
   "source": "## 1.2 GradientBoosting",
   "id": "50f54c25a85cbc6b"
  },
  {
   "metadata": {},
   "cell_type": "code",
   "source": "train_and_save_models(model_type='GradientBoosting', use_grid_search=False)",
   "id": "b81bc9807a11fa5a",
   "outputs": [],
   "execution_count": null
  },
  {
   "metadata": {},
   "cell_type": "markdown",
   "source": "## 1.3 XGBoost",
   "id": "473df31113e924e6"
  },
  {
   "metadata": {},
   "cell_type": "code",
   "source": [
    "# Customize model directory for saving models and scalers (optional)\n",
    "model_dir='YOUR_DESIRED_PATH_FOR_MODELS_AND_SCALERS'"
   ],
   "id": "855da0d156eeb41b",
   "outputs": [],
   "execution_count": null
  },
  {
   "metadata": {},
   "cell_type": "code",
   "source": [
    "# Use grid search for hyperparameter tuning is set to True\n",
    "train_and_save_models(model_type='XGBoost', use_grid_search=True, model_dir=model_dir)"
   ],
   "id": "b768bb085f176b77",
   "outputs": [],
   "execution_count": null
  },
  {
   "cell_type": "markdown",
   "id": "372d5a86-80f1-47dd-9908-4ceb8957f105",
   "metadata": {},
   "source": "# 2. Prediction from csv file"
  },
  {
   "metadata": {},
   "cell_type": "code",
   "source": "input_file = '../samples/to_predict.csv'",
   "id": "2c6acb3f9830bb91",
   "outputs": [],
   "execution_count": null
  },
  {
   "metadata": {},
   "cell_type": "markdown",
   "source": "## 2.1 RandomForest",
   "id": "78e862ad02f2ee6c"
  },
  {
   "metadata": {},
   "cell_type": "code",
   "source": [
    "predictor = BandGapPredictor(model_type='RandomForest')\n",
    "predictions_df = predictor.predict_from_file(input_file)\n",
    "predictions_df"
   ],
   "id": "33deab3883af178e",
   "outputs": [],
   "execution_count": null
  },
  {
   "metadata": {},
   "cell_type": "markdown",
   "source": "## 2.2 GradientBoosting",
   "id": "106f5d04cad1a4a6"
  },
  {
   "metadata": {},
   "cell_type": "code",
   "source": [
    "predictor = BandGapPredictor(model_type='GradientBoosting')\n",
    "predictions_df = predictor.predict_from_file(input_file)\n",
    "predictions_df"
   ],
   "id": "34e55f374304d850",
   "outputs": [],
   "execution_count": null
  },
  {
   "metadata": {},
   "cell_type": "markdown",
   "source": "## 2.3 XGBoost",
   "id": "78e5313592e99cff"
  },
  {
   "metadata": {},
   "cell_type": "code",
   "source": [
    "predictor = BandGapPredictor(model_type='XGBoost')\n",
    "predictions_df = predictor.predict_from_file(input_file)\n",
    "predictions_df"
   ],
   "id": "51c933943b09f1df",
   "outputs": [],
   "execution_count": null
  },
  {
   "metadata": {},
   "cell_type": "markdown",
   "source": "## 2.4 Best model (based on RandomForest)",
   "id": "4a4f00b4d24fab3a"
  },
  {
   "metadata": {},
   "cell_type": "code",
   "outputs": [],
   "execution_count": null,
   "source": [
    "predictor = BandGapPredictor()\n",
    "predictions_df = predictor.predict_from_file(input_file)\n",
    "predictions_df"
   ],
   "id": "96e72f00d0937b75"
  },
  {
   "metadata": {},
   "cell_type": "markdown",
   "source": "# 3. Prediction from one or multiple chemical formula",
   "id": "4b1d9be7118a0ea"
  },
  {
   "metadata": {},
   "cell_type": "code",
   "source": [
    "formula_1 = 'BaLa2In2O7'\n",
    "formula_2 = 'TiO2'\n",
    "formula_3 = 'Bi4Ti3O12'\n",
    "formula_4 = 'Bi2Ti2O7'\n",
    "formula_5 = 'BaTaO2N'\n",
    "formulas = [formula_1, formula_2, formula_3, formula_4, formula_5]"
   ],
   "id": "22efaa74bd38a030",
   "outputs": [],
   "execution_count": null
  },
  {
   "metadata": {},
   "cell_type": "markdown",
   "source": "## 3.1 RandomForest",
   "id": "e892a65bb9d29c38"
  },
  {
   "metadata": {},
   "cell_type": "code",
   "source": [
    "predictor = BandGapPredictor(model_type='RandomForest')\n",
    "predictions_df = predictor.predict_from_formula(formulas)\n",
    "\n",
    "predictions_df"
   ],
   "id": "e56caab5f7ba1962",
   "outputs": [],
   "execution_count": null
  },
  {
   "metadata": {},
   "cell_type": "markdown",
   "source": "## 3.2 GradientBoosting",
   "id": "8fdd5d60237748b5"
  },
  {
   "metadata": {},
   "cell_type": "code",
   "source": [
    "predictor = BandGapPredictor(model_type='GradientBoosting')\n",
    "predictions_df = predictor.predict_from_formula(formulas)\n",
    "\n",
    "predictions_df"
   ],
   "id": "e8225c0b63387bbc",
   "outputs": [],
   "execution_count": null
  },
  {
   "metadata": {},
   "cell_type": "markdown",
   "source": "## 3.3 XGBoost",
   "id": "83ec713639b922da"
  },
  {
   "metadata": {},
   "cell_type": "code",
   "source": [
    "predictor = BandGapPredictor(model_type='XGBoost')\n",
    "predictions_df = predictor.predict_from_formula(formulas)\n",
    "\n",
    "predictions_df"
   ],
   "id": "eabd339e60cc6ac2",
   "outputs": [],
   "execution_count": null
  },
  {
   "metadata": {},
   "cell_type": "markdown",
   "source": "## 3.4 Best model (based on RandomForest)",
   "id": "5934e8b72d652315"
  },
  {
   "metadata": {},
   "cell_type": "code",
   "outputs": [],
   "execution_count": null,
   "source": [
    "predictor = BandGapPredictor()\n",
    "predictions_df = predictor.predict_from_formula(formulas)\n",
    "\n",
    "predictions_df"
   ],
   "id": "8ddb45784af4be88"
  }
 ],
 "metadata": {
  "kernelspec": {
   "display_name": "Python 3 (ipykernel)",
   "language": "python",
   "name": "python3"
  },
  "language_info": {
   "codemirror_mode": {
    "name": "ipython",
    "version": 3
   },
   "file_extension": ".py",
   "mimetype": "text/x-python",
   "name": "python",
   "nbconvert_exporter": "python",
   "pygments_lexer": "ipython3",
   "version": "3.11.6"
  },
  "widgets": {
   "application/vnd.jupyter.widget-state+json": {
    "state": {},
    "version_major": 2,
    "version_minor": 0
   }
  }
 },
 "nbformat": 4,
 "nbformat_minor": 5
}
