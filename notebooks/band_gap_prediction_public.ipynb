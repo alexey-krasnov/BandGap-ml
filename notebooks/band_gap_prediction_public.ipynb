{
 "cells": [
  {
   "cell_type": "code",
   "id": "eed2a328-700e-4d50-829e-cbac7c608502",
   "metadata": {},
   "source": [
    "from band_gap_ml.band_gap_predictor import predict_eg_from_file, predict_eg_from_formula\n",
    "from band_gap_ml.model_training import train_and_save_models"
   ],
   "outputs": [],
   "execution_count": null
  },
  {
   "metadata": {},
   "cell_type": "markdown",
   "source": "# 1. Train models",
   "id": "ff80a06614c933b5"
  },
  {
   "metadata": {},
   "cell_type": "markdown",
   "source": "## 1.1 RandomForest",
   "id": "41645d09f2e65dff"
  },
  {
   "metadata": {},
   "cell_type": "code",
   "source": "train_and_save_models(model_type='RandomForest', use_grid_search=False)",
   "id": "f52435c184fb8e37",
   "outputs": [],
   "execution_count": null
  },
  {
   "metadata": {},
   "cell_type": "markdown",
   "source": "## 1.2 GradientBoosting",
   "id": "50f54c25a85cbc6b"
  },
  {
   "metadata": {},
   "cell_type": "code",
   "source": "train_and_save_models(model_type='GradientBoosting', use_grid_search=False)",
   "id": "b81bc9807a11fa5a",
   "outputs": [],
   "execution_count": null
  },
  {
   "metadata": {},
   "cell_type": "markdown",
   "source": "## 1.3 XGBoost",
   "id": "473df31113e924e6"
  },
  {
   "metadata": {},
   "cell_type": "code",
   "source": [
    "# Customize model directory for saving models and scalers (optional)\n",
    "model_dir='YOUR_DESIRED_PATH_FOR_MODELS_AND_SCALERS'"
   ],
   "id": "855da0d156eeb41b",
   "outputs": [],
   "execution_count": null
  },
  {
   "metadata": {},
   "cell_type": "code",
   "source": [
    "# Use grid search for hyperparameter tuning is set to True\n",
    "train_and_save_models(model_type='XGBoost', use_grid_search=True, model_dir=model_dir)"
   ],
   "id": "b768bb085f176b77",
   "outputs": [],
   "execution_count": null
  },
  {
   "cell_type": "markdown",
   "id": "372d5a86-80f1-47dd-9908-4ceb8957f105",
   "metadata": {},
   "source": "# 2. Prediction from csv file"
  },
  {
   "metadata": {},
   "cell_type": "code",
   "source": "input_file = '../samples/to_predict.csv'",
   "id": "2c6acb3f9830bb91",
   "outputs": [],
   "execution_count": null
  },
  {
   "metadata": {},
   "cell_type": "markdown",
   "source": "## 2.1 RandomForest",
   "id": "33bc698bec0c635c"
  },
  {
   "cell_type": "code",
   "id": "97780f08-f0a3-4364-bcaa-f7ce70726742",
   "metadata": {},
   "source": [
    "predictions = predict_eg_from_file(input_file, model_type='RandomForest')\n",
    "predictions"
   ],
   "outputs": [],
   "execution_count": null
  },
  {
   "metadata": {},
   "cell_type": "markdown",
   "source": "## 2.2 GradientBoosting",
   "id": "2faf86226de980f2"
  },
  {
   "metadata": {},
   "cell_type": "code",
   "source": [
    "predictions = predict_eg_from_file(input_file, model_type='GradientBoosting')\n",
    "predictions"
   ],
   "id": "2a98e4d70343be84",
   "outputs": [],
   "execution_count": null
  },
  {
   "metadata": {},
   "cell_type": "markdown",
   "source": "## 2.3 XGBoost",
   "id": "15b1c1eb4bad2da2"
  },
  {
   "metadata": {},
   "cell_type": "code",
   "source": [
    "predictions = predict_eg_from_file(input_file, model_type='XGBoost', model_dir=model_dir)\n",
    "predictions"
   ],
   "id": "a19e2cfcd5fcc9",
   "outputs": [],
   "execution_count": null
  },
  {
   "cell_type": "markdown",
   "id": "5e73c134-5b5e-410f-ae83-5822c19678db",
   "metadata": {},
   "source": "# 3. Prediction from one or multiple chemical formula"
  },
  {
   "metadata": {},
   "cell_type": "code",
   "source": [
    "formula_1 = 'BaLa2In2O7'\n",
    "formula_2 = 'TiO2'\n",
    "formula_3 = 'Bi4Ti3O12'\n",
    "formula_4 = 'Bi2Ti2O7'\n",
    "formula_5 = 'BaTaO2N'\n",
    "formulas = [formula_1, formula_2, formula_3, formula_4]"
   ],
   "id": "29a17fcde1f83c13",
   "outputs": [],
   "execution_count": null
  },
  {
   "metadata": {},
   "cell_type": "markdown",
   "source": "## 3.1 RandomForest",
   "id": "30b22aecd72cfed0"
  },
  {
   "cell_type": "code",
   "id": "8410f5ee-9fc1-42dd-bc25-a3576444ad69",
   "metadata": {},
   "source": [
    "predictions = predict_eg_from_formula(formula=formulas, model_type='RandomForest')\n",
    "for formula, prediction in zip(formulas, predictions):\n",
    "    print(f'Prediction for {formula}: {prediction:.2f} eV')"
   ],
   "outputs": [],
   "execution_count": null
  },
  {
   "metadata": {},
   "cell_type": "markdown",
   "source": "## 3.2 GradientBoosting",
   "id": "894aea6ed405037"
  },
  {
   "metadata": {},
   "cell_type": "code",
   "source": [
    "predictions = predict_eg_from_formula(formula=formulas, model_type='GradientBoosting')\n",
    "for formula, prediction in zip(formulas, predictions):\n",
    "    print(f'Prediction for {formula}: {prediction:.2f} eV')"
   ],
   "id": "efe028d32260eedd",
   "outputs": [],
   "execution_count": null
  },
  {
   "metadata": {},
   "cell_type": "markdown",
   "source": "## 3.3 XGBoost",
   "id": "e804eda2868ba68b"
  },
  {
   "metadata": {},
   "cell_type": "code",
   "source": [
    "predictions = predict_eg_from_formula(formula=formulas, model_type='XGBoost', model_dir=model_dir)\n",
    "for formula, prediction in zip(formulas, predictions):\n",
    "    print(f'Prediction for {formula}: {prediction:.2f} eV')"
   ],
   "id": "6831081eb2839de3",
   "outputs": [],
   "execution_count": null
  }
 ],
 "metadata": {
  "kernelspec": {
   "display_name": "Python 3 (ipykernel)",
   "language": "python",
   "name": "python3"
  },
  "language_info": {
   "codemirror_mode": {
    "name": "ipython",
    "version": 3
   },
   "file_extension": ".py",
   "mimetype": "text/x-python",
   "name": "python",
   "nbconvert_exporter": "python",
   "pygments_lexer": "ipython3",
   "version": "3.11.6"
  },
  "widgets": {
   "application/vnd.jupyter.widget-state+json": {
    "state": {},
    "version_major": 2,
    "version_minor": 0
   }
  }
 },
 "nbformat": 4,
 "nbformat_minor": 5
}
